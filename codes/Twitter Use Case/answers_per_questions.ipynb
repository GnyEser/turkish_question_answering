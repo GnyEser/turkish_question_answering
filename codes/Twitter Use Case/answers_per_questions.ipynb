{
 "cells": [
  {
   "cell_type": "code",
   "execution_count": 1,
   "metadata": {},
   "outputs": [
    {
     "data": {
      "text/html": [
       "<style>.container { width:95% !important; }</style>"
      ],
      "text/plain": [
       "<IPython.core.display.HTML object>"
      ]
     },
     "metadata": {},
     "output_type": "display_data"
    }
   ],
   "source": [
    "import pandas as pd\n",
    "import numpy as np\n",
    "from IPython.core.display import display, HTML\n",
    "display(HTML(\"<style>.container { width:95% !important; }</style>\"))"
   ]
  },
  {
   "cell_type": "code",
   "execution_count": 2,
   "metadata": {},
   "outputs": [
    {
     "name": "stdout",
     "output_type": "stream",
     "text": [
      "\u001b[31mYKSyi erteleyin_answers.csv\u001b[m\u001b[m\r\n",
      "\u001b[31mdemet evgar_answers.csv\u001b[m\u001b[m\r\n",
      "\u001b[31mkıdem tazminatıma dokunma_answers.csv\u001b[m\u001b[m\r\n",
      "\u001b[31mserdar hocanın yanındayız_answers.csv\u001b[m\u001b[m\r\n"
     ]
    }
   ],
   "source": [
    "!ls *.csv"
   ]
  },
  {
   "cell_type": "code",
   "execution_count": 53,
   "metadata": {},
   "outputs": [],
   "source": [
    "base_questions = [\"'a ne oldu\", \"'e ne oldu\",\n",
    "                  \" ne zaman\", \" nerede \", \" neden\", \" ne için\",\n",
    "                  \" kimdir\" , \" kim\" ]"
   ]
  },
  {
   "cell_type": "code",
   "execution_count": 4,
   "metadata": {},
   "outputs": [],
   "source": [
    "df = pd.read_csv(\"demet evgar_answers.csv\")"
   ]
  },
  {
   "cell_type": "code",
   "execution_count": 59,
   "metadata": {},
   "outputs": [],
   "source": [
    "def answers_per_questions(df, base_questions):\n",
    "    for i in range(len(base_questions)):\n",
    "        x = df.loc[(df.index%len(base_questions))==i].iloc[:,1]\n",
    "        conf = x.count()/len(x)\n",
    "        top_words_with_conf = pd.Series([w for ans in x.dropna() for w in ans.split(\" \")]).value_counts(1).head(5)\n",
    "        print(base_questions[i] + \" with confidence: \" + str(conf)[:4])\n",
    "        print(top_words_with_conf)\n",
    "        print(\" \")"
   ]
  },
  {
   "cell_type": "code",
   "execution_count": 62,
   "metadata": {},
   "outputs": [],
   "source": [
    "a = !ls *.csv # cevapların olduğu csv'ler için"
   ]
  },
  {
   "cell_type": "code",
   "execution_count": 66,
   "metadata": {},
   "outputs": [
    {
     "name": "stdout",
     "output_type": "stream",
     "text": [
      "YKSyi erteleyin_answers.csv\n",
      "'a ne oldu with confidence: 0.13\n",
      "olsun                 0.043478\n",
      "öğrencinin            0.043478\n",
      "#yksyi2ayerteleyin    0.043478\n",
      "sınav                 0.043478\n",
      "yeter                 0.021739\n",
      "dtype: float64\n",
      " \n",
      "'e ne oldu with confidence: 0.09\n",
      "olsun      0.06250\n",
      "ikamet     0.06250\n",
      "yakın      0.06250\n",
      "sınav      0.06250\n",
      "yerlere    0.03125\n",
      "dtype: float64\n",
      " \n",
      " ne zaman with confidence: 0.11\n",
      "#yksyi2ayerteleyin    0.097561\n",
      "sınav                 0.048780\n",
      "yks                   0.048780\n",
      "abi                   0.024390\n",
      "ben                   0.024390\n",
      "dtype: float64\n",
      " \n",
      " nerede  with confidence: 0.14\n",
      "#yksyi2ayerteleyin    0.040000\n",
      "ikamet                0.026667\n",
      "öğrencinin            0.026667\n",
      "ve                    0.026667\n",
      "yakın                 0.026667\n",
      "dtype: float64\n",
      " \n",
      " neden with confidence: 0.13\n",
      "#yksyi2ayerteleyin    0.085714\n",
      "yks                   0.057143\n",
      "35.000                0.028571\n",
      "ertelenir             0.028571\n",
      "ertelenmesi           0.028571\n",
      "dtype: float64\n",
      " \n",
      " ne için with confidence: 0.16\n",
      "#yksyi2ayerteleyin    0.090909\n",
      "ve                    0.025974\n",
      "sınav                 0.025974\n",
      "yakın                 0.025974\n",
      "herkes                0.025974\n",
      "dtype: float64\n",
      " \n",
      " kimdir with confidence: 0.14\n",
      "sınavı    0.0375\n",
      "ve        0.0250\n",
      "bir       0.0250\n",
      "ikamet    0.0250\n",
      "sınav     0.0250\n",
      "dtype: float64\n",
      " \n",
      " kim with confidence: 0.10\n",
      "sınavı        0.052632\n",
      "öğrencinin    0.052632\n",
      "ikamet        0.052632\n",
      "yakın         0.052632\n",
      "sınav         0.052632\n",
      "dtype: float64\n",
      " \n"
     ]
    }
   ],
   "source": [
    "df = pd.read_csv(a[0])\n",
    "print(a[0])\n",
    "answers_per_questions(df, base_questions)"
   ]
  },
  {
   "cell_type": "code",
   "execution_count": 68,
   "metadata": {},
   "outputs": [
    {
     "name": "stdout",
     "output_type": "stream",
     "text": [
      "demet evgar_answers.csv\n",
      "'a ne oldu with confidence: 0.57\n",
      "2020      0.078947\n",
      "arı       0.052632\n",
      "bişey     0.026316\n",
      "içine     0.026316\n",
      "kaçmış    0.026316\n",
      "dtype: float64\n",
      " \n",
      "'e ne oldu with confidence: 0.42\n",
      "2020     0.085714\n",
      "sana     0.057143\n",
      "bişey    0.028571\n",
      "artık    0.028571\n",
      "dalga    0.028571\n",
      "dtype: float64\n",
      " \n",
      " ne zaman with confidence: 0.42\n",
      "arı       0.076923\n",
      "2020      0.076923\n",
      "demet     0.038462\n",
      "birkaç    0.038462\n",
      "ilk       0.038462\n",
      "dtype: float64\n",
      " \n",
      " nerede  with confidence: 0.44\n",
      "arı           0.053571\n",
      "dudağını      0.035714\n",
      "sonra         0.035714\n",
      "sonrasında    0.017857\n",
      "dudagını      0.017857\n",
      "dtype: float64\n",
      " \n",
      " neden with confidence: 0.5\n",
      "2020         0.085714\n",
      "arı          0.057143\n",
      "hastanede    0.057143\n",
      "birkaç       0.028571\n",
      "ne           0.028571\n",
      "dtype: float64\n",
      " \n",
      " ne için with confidence: 0.27\n",
      "bişey      0.0625\n",
      "bu         0.0625\n",
      "bunu       0.0625\n",
      "artık      0.0625\n",
      "yaşında    0.0625\n",
      "dtype: float64\n",
      " \n",
      " kimdir with confidence: 0.27\n",
      "arı          0.2\n",
      "ayağından    0.1\n",
      "açmadı       0.1\n",
      "2020         0.1\n",
      "ve           0.1\n",
      "dtype: float64\n",
      " \n",
      " kim with confidence: 0.38\n",
      "şarkısının    0.02381\n",
      "şu            0.02381\n",
      "şarkı         0.02381\n",
      "kaçmış        0.02381\n",
      "olduğunu      0.02381\n",
      "dtype: float64\n",
      " \n"
     ]
    }
   ],
   "source": [
    "df = pd.read_csv(a[1])\n",
    "print(a[1])\n",
    "answers_per_questions(df, base_questions)"
   ]
  },
  {
   "cell_type": "code",
   "execution_count": 69,
   "metadata": {},
   "outputs": [
    {
     "name": "stdout",
     "output_type": "stream",
     "text": [
      "kıdem tazminatıma dokunma_answers.csv\n",
      "'a ne oldu with confidence: 0.28\n",
      "kıdemtazminatımadokunma     0.163265\n",
      "kıdem                       0.040816\n",
      "işçinin                     0.040816\n",
      "#kıdemtazminatımadokunma    0.040816\n",
      "bir                         0.020408\n",
      "dtype: float64\n",
      " \n",
      "'e ne oldu with confidence: 0.25\n",
      "kıdemtazminatımadokunma    0.192771\n",
      "işçinin                    0.048193\n",
      "kıdem                      0.036145\n",
      "geleceğimizi               0.024096\n",
      "kızımın                    0.024096\n",
      "dtype: float64\n",
      " \n",
      " ne zaman with confidence: 0.22\n",
      "kıdemtazminatımadokunma     0.214286\n",
      "işçinin                     0.057143\n",
      "dokunma                     0.042857\n",
      "kıdemtazminati              0.028571\n",
      "#kıdemtazminatımadokunma    0.028571\n",
      "dtype: float64\n",
      " \n",
      " nerede  with confidence: 0.23\n",
      "kıdemtazminatımadokunma    0.148515\n",
      "dokunma                    0.029703\n",
      "kıdem                      0.029703\n",
      "ben                        0.019802\n",
      "bir                        0.019802\n",
      "dtype: float64\n",
      " \n",
      " neden with confidence: 0.26\n",
      "kıdemtazminatımadokunma    0.195402\n",
      "işçinin                    0.057471\n",
      "dokunma                    0.034483\n",
      "tamamlayıcı                0.022989\n",
      "emeklilik                  0.022989\n",
      "dtype: float64\n",
      " \n",
      " ne için with confidence: 0.24\n",
      "kıdemtazminatımadokunma    0.168675\n",
      "işçinin                    0.060241\n",
      "dokunma                    0.036145\n",
      "emeklilik                  0.024096\n",
      "kıdem                      0.024096\n",
      "dtype: float64\n",
      " \n",
      " kimdir with confidence: 0.21\n",
      "kıdemtazminatımadokunma    0.189189\n",
      "işçinin                    0.067568\n",
      "yazık                      0.027027\n",
      "dokunma                    0.027027\n",
      "kıdem                      0.027027\n",
      "dtype: float64\n",
      " \n",
      " kim with confidence: 0.24\n",
      "kıdemtazminatımadokunma    0.253731\n",
      "işçinin                    0.089552\n",
      "alın                       0.029851\n",
      ",                          0.014925\n",
      "alanı                      0.014925\n",
      "dtype: float64\n",
      " \n"
     ]
    }
   ],
   "source": [
    "df = pd.read_csv(a[2])\n",
    "print(a[2])\n",
    "answers_per_questions(df, base_questions)"
   ]
  },
  {
   "cell_type": "code",
   "execution_count": 70,
   "metadata": {
    "scrolled": false
   },
   "outputs": [
    {
     "name": "stdout",
     "output_type": "stream",
     "text": [
      "serdar hocanın yanındayız_answers.csv\n",
      "'a ne oldu with confidence: 0.29\n",
      "serdarhocayanındayız     0.209302\n",
      "#serdarhocayanındayız    0.139535\n",
      "yanında                  0.046512\n",
      "kim                      0.046512\n",
      "düşünüyor,               0.023256\n",
      "dtype: float64\n",
      " \n",
      "'e ne oldu with confidence: 0.16\n",
      "#serdarhocayanındayız    0.178571\n",
      "serdarhocayanındayız     0.107143\n",
      "kim                      0.071429\n",
      "ezilenin                 0.035714\n",
      "ekonomiyi                0.035714\n",
      "dtype: float64\n",
      " \n",
      " ne zaman with confidence: 0.26\n",
      "serdarhocayanındayız     0.275862\n",
      "#serdarhocayanındayız    0.206897\n",
      "kim                      0.068966\n",
      "ezilenin                 0.034483\n",
      "düşünüyor,               0.034483\n",
      "dtype: float64\n",
      " \n",
      " nerede  with confidence: 0.19\n",
      "serdarhocayanındayız    0.103448\n",
      "yanında                 0.068966\n",
      "kim                     0.034483\n",
      "oldu                    0.017241\n",
      "'ın                     0.017241\n",
      "dtype: float64\n",
      " \n",
      " neden with confidence: 0.19\n",
      "serdarhocayanındayız     0.259259\n",
      "#serdarhocayanındayız    0.111111\n",
      "diyorum                  0.037037\n",
      "halkının                 0.037037\n",
      "yaşayan                  0.037037\n",
      "dtype: float64\n",
      " \n",
      " ne için with confidence: 0.22\n",
      "serdarhocayanındayız     0.184211\n",
      "#serdarhocayanındayız    0.105263\n",
      "kim                      0.052632\n",
      "düşünüyor,               0.026316\n",
      "yanındayız               0.026316\n",
      "dtype: float64\n",
      " \n",
      " kimdir with confidence: 0.18\n",
      "#serdarhocayanındayız    0.08\n",
      "serdarhocayanındayız     0.06\n",
      "yanında                  0.06\n",
      "oldu                     0.02\n",
      "'ın                      0.02\n",
      "dtype: float64\n",
      " \n",
      " kim with confidence: 0.22\n",
      "#serdarhocayanındayız    0.115385\n",
      "serdarhocayanındayız     0.076923\n",
      "yanında                  0.038462\n",
      "rahatsızlığı             0.019231\n",
      "günden                   0.019231\n",
      "dtype: float64\n",
      " \n"
     ]
    }
   ],
   "source": [
    "df = pd.read_csv(a[3])\n",
    "print(a[3])\n",
    "answers_per_questions(df, base_questions)"
   ]
  },
  {
   "cell_type": "code",
   "execution_count": null,
   "metadata": {},
   "outputs": [],
   "source": []
  },
  {
   "cell_type": "code",
   "execution_count": null,
   "metadata": {},
   "outputs": [],
   "source": []
  },
  {
   "cell_type": "code",
   "execution_count": 72,
   "metadata": {},
   "outputs": [
    {
     "name": "stderr",
     "output_type": "stream",
     "text": [
      "I0713 11:37:56.232146 4754986432 file_utils.py:39] PyTorch version 1.2.0 available.\n",
      "I0713 11:37:58.615687 4754986432 file_utils.py:55] TensorFlow version 2.0.0 available.\n",
      "I0713 11:37:58.789217 4754986432 _import_c_extension.py:31] Failed to import cuda module: No module named 'caffe2.python.caffe2_pybind11_state_gpu'\n",
      "I0713 11:37:58.790062 4754986432 _import_c_extension.py:38] Failed to import AMD hip module: No module named 'caffe2.python.caffe2_pybind11_state_hip'\n",
      "W0713 11:37:58.790925 4754986432 _import_c_extension.py:41] This caffe2 python run does not have GPU support. Will run in CPU only mode.\n"
     ]
    }
   ],
   "source": [
    "from simpletransformers.question_answering import QuestionAnsweringModel"
   ]
  },
  {
   "cell_type": "code",
   "execution_count": 89,
   "metadata": {},
   "outputs": [
    {
     "name": "stderr",
     "output_type": "stream",
     "text": [
      "I0713 12:30:57.929148 4754986432 configuration_utils.py:264] loading configuration file https://s3.amazonaws.com/models.huggingface.co/bert/dbmdz/bert-base-turkish-cased/config.json from cache at /Users/ilkerkurtulus/.cache/torch/transformers/85e4250979fc6fb434f8348f81373dd92b27cfe72fec7a7b0cee0649e168bcd8.a3aeed7cdac4ab32c23e706965d9605a64756bbc94becd5f14a720ed9debae9a\n",
      "I0713 12:30:57.930298 4754986432 configuration_utils.py:300] Model config BertConfig {\n",
      "  \"attention_probs_dropout_prob\": 0.1,\n",
      "  \"gradient_checkpointing\": false,\n",
      "  \"hidden_act\": \"gelu\",\n",
      "  \"hidden_dropout_prob\": 0.1,\n",
      "  \"hidden_size\": 768,\n",
      "  \"initializer_range\": 0.02,\n",
      "  \"intermediate_size\": 3072,\n",
      "  \"layer_norm_eps\": 1e-12,\n",
      "  \"max_position_embeddings\": 512,\n",
      "  \"model_type\": \"bert\",\n",
      "  \"num_attention_heads\": 12,\n",
      "  \"num_hidden_layers\": 12,\n",
      "  \"pad_token_id\": 0,\n",
      "  \"type_vocab_size\": 2,\n",
      "  \"vocab_size\": 32000\n",
      "}\n",
      "\n",
      "I0713 12:30:58.052073 4754986432 modeling_utils.py:667] loading weights file https://cdn.huggingface.co/dbmdz/bert-base-turkish-cased/pytorch_model.bin from cache at /Users/ilkerkurtulus/.cache/torch/transformers/fc64b957fc55c1e6dcda54dfc269d12cbb213e6e4688d179a8bf7be65485d48e.9fb1ef307024a3c812f422b3ffec42629ab5179875b506d731b8c9206bbfce55\n",
      "W0713 12:31:00.291875 4754986432 modeling_utils.py:757] Some weights of the model checkpoint at dbmdz/bert-base-turkish-cased were not used when initializing BertForQuestionAnswering: ['cls.predictions.bias', 'cls.predictions.transform.dense.weight', 'cls.predictions.transform.dense.bias', 'cls.predictions.transform.LayerNorm.weight', 'cls.predictions.transform.LayerNorm.bias', 'cls.predictions.decoder.weight', 'cls.predictions.decoder.bias', 'cls.seq_relationship.weight', 'cls.seq_relationship.bias']\n",
      "- This IS expected if you are initializing BertForQuestionAnswering from the checkpoint of a model trained on another task or with another architecture (e.g. initializing a BertForSequenceClassification model from a BertForPretraining model).\n",
      "- This IS NOT expected if you are initializing BertForQuestionAnswering from the checkpoint of a model that you expect to be exactly identical (initializing a BertForSequenceClassification model from a BertForSequenceClassification model).\n",
      "W0713 12:31:00.292927 4754986432 modeling_utils.py:768] Some weights of BertForQuestionAnswering were not initialized from the model checkpoint at dbmdz/bert-base-turkish-cased and are newly initialized: ['qa_outputs.weight', 'qa_outputs.bias']\n",
      "You should probably TRAIN this model on a down-stream task to be able to use it for predictions and inference.\n",
      "I0713 12:31:00.294597 4754986432 tokenization_utils_base.py:1167] Model name 'dbmdz/bert-base-turkish-cased' not found in model shortcut name list (bert-base-uncased, bert-large-uncased, bert-base-cased, bert-large-cased, bert-base-multilingual-uncased, bert-base-multilingual-cased, bert-base-chinese, bert-base-german-cased, bert-large-uncased-whole-word-masking, bert-large-cased-whole-word-masking, bert-large-uncased-whole-word-masking-finetuned-squad, bert-large-cased-whole-word-masking-finetuned-squad, bert-base-cased-finetuned-mrpc, bert-base-german-dbmdz-cased, bert-base-german-dbmdz-uncased, TurkuNLP/bert-base-finnish-cased-v1, TurkuNLP/bert-base-finnish-uncased-v1, wietsedv/bert-base-dutch-cased). Assuming 'dbmdz/bert-base-turkish-cased' is a path, a model identifier, or url to a directory containing tokenizer files.\n",
      "I0713 12:31:03.512003 4754986432 tokenization_utils_base.py:1254] loading file https://s3.amazonaws.com/models.huggingface.co/bert/dbmdz/bert-base-turkish-cased/vocab.txt from cache at /Users/ilkerkurtulus/.cache/torch/transformers/66487ad4acd524c67592d438155765ba5c9c9bead20da0a74727a6bfeb85c62e.0df1d64abb373fc32402d72e6d347e1774e92e397d4dba7ee272c82288d22542\n",
      "I0713 12:31:03.512802 4754986432 tokenization_utils_base.py:1254] loading file https://s3.amazonaws.com/models.huggingface.co/bert/dbmdz/bert-base-turkish-cased/added_tokens.json from cache at None\n",
      "I0713 12:31:03.513814 4754986432 tokenization_utils_base.py:1254] loading file https://s3.amazonaws.com/models.huggingface.co/bert/dbmdz/bert-base-turkish-cased/special_tokens_map.json from cache at None\n",
      "I0713 12:31:03.514503 4754986432 tokenization_utils_base.py:1254] loading file https://s3.amazonaws.com/models.huggingface.co/bert/dbmdz/bert-base-turkish-cased/tokenizer_config.json from cache at /Users/ilkerkurtulus/.cache/torch/transformers/b039cd41d4435c957bf3ba0561fa17dc57cf98648375a43eb90d8a93dc42e4eb.ee1046066e81360013c9d26b56704e3365efe857b2c657bd0f0b053f409c6f36\n",
      "I0713 12:31:03.515452 4754986432 tokenization_utils_base.py:1254] loading file https://s3.amazonaws.com/models.huggingface.co/bert/dbmdz/bert-base-turkish-cased/tokenizer.json from cache at None\n"
     ]
    }
   ],
   "source": [
    "a = QuestionAnsweringModel(\"bert\", \"dbmdz/bert-base-turkish-cased\", torch.Generator().manual_seed(42), use_cuda=False)"
   ]
  },
  {
   "cell_type": "code",
   "execution_count": 79,
   "metadata": {},
   "outputs": [
    {
     "data": {
      "text/plain": [
       "tensor([0.6341, 0.4901, 0.8964, 0.4556, 0.6323])"
      ]
     },
     "execution_count": 79,
     "metadata": {},
     "output_type": "execute_result"
    }
   ],
   "source": [
    "import torch\n",
    "gen0 = torch.Generator()\n",
    "gen1 = torch.Generator()\n",
    "\n",
    "gen0 = gen0.manual_seed(0)\n",
    "gen1 = gen1.manual_seed(1)\n",
    "torch.rand(5, generator=gen0)\n",
    "torch.rand(5, generator=gen0)\n",
    "torch.rand(5, generator=gen1)\n",
    "torch.rand(5, generator=gen1)\n",
    "\n",
    "gen0 = gen0.manual_seed(0)\n",
    "gen1 = gen1.manual_seed(1)\n",
    "torch.rand(5, generator=gen1)\n",
    "torch.rand(5, generator=gen1)\n",
    "torch.rand(5, generator=gen0)\n",
    "torch.rand(5, generator=gen0)"
   ]
  },
  {
   "cell_type": "code",
   "execution_count": 80,
   "metadata": {},
   "outputs": [
    {
     "data": {
      "text/plain": [
       "<torch._C.Generator at 0x1a4c26ca50>"
      ]
     },
     "execution_count": 80,
     "metadata": {},
     "output_type": "execute_result"
    }
   ],
   "source": [
    "gen0.manual_seed(0)"
   ]
  },
  {
   "cell_type": "code",
   "execution_count": 82,
   "metadata": {},
   "outputs": [
    {
     "data": {
      "text/plain": [
       "tensor([0.4963, 0.7682, 0.0885, 0.1320, 0.3074])"
      ]
     },
     "execution_count": 82,
     "metadata": {},
     "output_type": "execute_result"
    }
   ],
   "source": [
    "torch.rand(5, generator = torch.Generator().manual_seed(0))"
   ]
  },
  {
   "cell_type": "code",
   "execution_count": 83,
   "metadata": {},
   "outputs": [
    {
     "data": {
      "text/plain": [
       "tensor([0.4963, 0.7682, 0.0885, 0.1320, 0.3074])"
      ]
     },
     "execution_count": 83,
     "metadata": {},
     "output_type": "execute_result"
    }
   ],
   "source": [
    "torch.rand(5, generator = torch.Generator().manual_seed(0))"
   ]
  },
  {
   "cell_type": "code",
   "execution_count": 87,
   "metadata": {},
   "outputs": [
    {
     "data": {
      "text/plain": [
       "tensor([0.8823, 0.9150, 0.3829, 0.9593, 0.3904])"
      ]
     },
     "execution_count": 87,
     "metadata": {},
     "output_type": "execute_result"
    }
   ],
   "source": [
    "torch.rand(5, generator = torch.Generator().manual_seed(42))"
   ]
  },
  {
   "cell_type": "code",
   "execution_count": 88,
   "metadata": {},
   "outputs": [
    {
     "data": {
      "text/plain": [
       "tensor([0.8823, 0.9150, 0.3829, 0.9593, 0.3904])"
      ]
     },
     "execution_count": 88,
     "metadata": {},
     "output_type": "execute_result"
    }
   ],
   "source": [
    "torch.rand(5, generator = torch.Generator().manual_seed(42))"
   ]
  },
  {
   "cell_type": "code",
   "execution_count": null,
   "metadata": {},
   "outputs": [],
   "source": []
  }
 ],
 "metadata": {
  "kernelspec": {
   "display_name": "Python 3",
   "language": "python",
   "name": "python3"
  },
  "language_info": {
   "codemirror_mode": {
    "name": "ipython",
    "version": 3
   },
   "file_extension": ".py",
   "mimetype": "text/x-python",
   "name": "python",
   "nbconvert_exporter": "python",
   "pygments_lexer": "ipython3",
   "version": "3.7.3"
  },
  "toc": {
   "base_numbering": 1,
   "nav_menu": {},
   "number_sections": true,
   "sideBar": true,
   "skip_h1_title": false,
   "title_cell": "Table of Contents",
   "title_sidebar": "Contents",
   "toc_cell": false,
   "toc_position": {},
   "toc_section_display": true,
   "toc_window_display": false
  },
  "varInspector": {
   "cols": {
    "lenName": 16,
    "lenType": 16,
    "lenVar": 40
   },
   "kernels_config": {
    "python": {
     "delete_cmd_postfix": "",
     "delete_cmd_prefix": "del ",
     "library": "var_list.py",
     "varRefreshCmd": "print(var_dic_list())"
    },
    "r": {
     "delete_cmd_postfix": ") ",
     "delete_cmd_prefix": "rm(",
     "library": "var_list.r",
     "varRefreshCmd": "cat(var_dic_list()) "
    }
   },
   "types_to_exclude": [
    "module",
    "function",
    "builtin_function_or_method",
    "instance",
    "_Feature"
   ],
   "window_display": false
  }
 },
 "nbformat": 4,
 "nbformat_minor": 2
}
